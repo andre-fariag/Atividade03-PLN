{
  "nbformat": 4,
  "nbformat_minor": 0,
  "metadata": {
    "colab": {
      "provenance": [],
      "include_colab_link": true
    },
    "kernelspec": {
      "name": "python3",
      "display_name": "Python 3"
    }
  },
  "cells": [
    {
      "cell_type": "markdown",
      "metadata": {
        "id": "view-in-github",
        "colab_type": "text"
      },
      "source": [
        "<a href=\"https://colab.research.google.com/github/andre-fariag/Atividade03-PLN/blob/main/2023_Q3_PLN_ATIVIDADE_PR%C3%81TICA_03.ipynb\" target=\"_parent\"><img src=\"https://colab.research.google.com/assets/colab-badge.svg\" alt=\"Open In Colab\"/></a>"
      ]
    },
    {
      "cell_type": "markdown",
      "metadata": {
        "id": "Y6QILOdpOjwv"
      },
      "source": [
        "# **Processamento de Linguagem Natural [2023.Q3]**\n",
        "Prof. Alexandre Donizeti Alves"
      ]
    },
    {
      "cell_type": "markdown",
      "metadata": {
        "id": "8m67OOx9MX_3"
      },
      "source": [
        "### **ATIVIDADE PRÁTICA 03 [Tutorial sobre uma API]**\n",
        "\n",
        "---"
      ]
    },
    {
      "cell_type": "markdown",
      "metadata": {
        "id": "5Gk0nHKabBT-"
      },
      "source": [
        "A **ATIVIDADE PRÁTICA 03** deve ser feita utilizando o **Google Colab** com uma conta\n",
        "sua vinculada ao Gmail. O link do seu notebook, armazenado no Google Drive, além do link de um repositório no GitHub e os principais resultados da atividade, devem ser enviados usando o seguinte formulário:\n",
        "\n",
        "> https://forms.gle/nPsWnUuE5GCeXaiU8 (**AINDA EM CONSTRUÇÃO**)\n",
        "\n",
        "\n",
        "**IMPORTANTE**: A submissão deve ser feita APENAS POR UM INTEGRANTE DA EQUIPE até o dia 30/10 (segunda-feira - até às 23h59). Por favor, lembre-se de dar permissão de ACESSO IRRESTRITO para o professor da disciplina de PLN."
      ]
    },
    {
      "cell_type": "markdown",
      "metadata": {
        "id": "D7hJlilKM485"
      },
      "source": [
        "### **EQUIPE**\n",
        "\n",
        "---"
      ]
    },
    {
      "cell_type": "markdown",
      "source": [
        "**POR FAVOR, PREENCHER OS INTEGRANDES DA SUA EQUIPE:**\n",
        "\n",
        "\n",
        "**Integrante 01:**\n",
        "André Faria Guardão, 11201721895\n",
        "\n",
        "**Integrante 02:**\n",
        "Matheus Rocha Cardoso 11201721651"
      ],
      "metadata": {
        "id": "tnIArN0QY-Ek"
      }
    },
    {
      "cell_type": "markdown",
      "source": [
        "### **API**\n",
        "---"
      ],
      "metadata": {
        "id": "6yExhaebs-nD"
      }
    },
    {
      "cell_type": "markdown",
      "source": [
        "**QUAL A API SELECIONADA POR SUA EQUIPE?**\n",
        "\n",
        "`API: `Twitter (X)\n",
        "\n",
        "`Site oficial: `https://twitter.com/\n",
        "\n",
        "`Link para a documentação oficial:`https://developer.twitter.com/en/docs/twitter-api"
      ],
      "metadata": {
        "id": "DjJM_qhEZRy6"
      }
    },
    {
      "cell_type": "markdown",
      "metadata": {
        "id": "EtjgWQRzNphL"
      },
      "source": [
        "### **DESCRIÇÃO**\n",
        "---"
      ]
    },
    {
      "cell_type": "markdown",
      "source": [
        "Implementar um `notebook` no `Google Colab` para demonstrar passo a passo como usar uma determinada **API** em `Python`, ou seja, criar um **TUTORIAL** destacando desde a instalação e configuração da **API** até as principais finalidades. O **TUTORIAL** deve ser o mais completo possível, com diversos exemplos de uso e permitindo ser facilmente reproduzido.\n",
        "\n",
        "A **API** deve ser selecionada na seguinte planilha:\n",
        "\n",
        "https://docs.google.com/spreadsheets/d/1-Q1szJ3UmoE2_3LtcRQyqid5fPIcnpsR3XAPnoxLj2o/edit?usp=sharing\n",
        "\n",
        ">\n",
        "\n",
        "**IMPORTANTE:** É obrigatório usar o e-mail da UFABC.\n",
        "\n",
        ">\n",
        "\n",
        "**DICA:** Por favor, insira o seu nome ou da sua equipe na ordem definida na planilha. A escolha da **API** deve ser feita de acordo com a lista disponibilizada na planilha. Cada **API** só pode ser escolhida por, no **MÁXIMO**, 2 equipes."
      ],
      "metadata": {
        "id": "fXTwkiiGs2BV"
      }
    },
    {
      "cell_type": "markdown",
      "source": [
        "### **ROTEIRO PARA APRESENTAÇÃO DE UMA API**\n",
        "\n",
        "---\n",
        ">\n",
        "\n",
        "\n",
        "**IMPORTANTE**: consulta feita no ChatGPT\n",
        "\n",
        ">\n",
        "\n",
        "Como escrever um tutorial sobre uma API em Python usando o Google Colab com foco nas etapas essenciais. Aqui está um guia rápido:\n",
        "\n",
        ">\n",
        "\n",
        "* **Passo 01: Introdução**\n",
        "\n",
        "  >  Apresente a API que você está explicando.\n",
        "\n",
        "  >  Explique por que é útil ou relevante.\n",
        "\n",
        "* **Passo 02: Configuração no Google Colab**\n",
        "\n",
        "  > Explique como os leitores podem abrir um novo notebook no Google Colab.\n",
        "\n",
        "  > Mostre como importar bibliotecas necessárias.\n",
        "\n",
        "  > Instrua sobre como instalar quaisquer bibliotecas adicionais, se necessário.\n",
        "\n",
        "* **Passo 03: Autenticação (se aplicável)**\n",
        "\n",
        "  > Descreva como configurar a autenticação, caso a API exija.\n",
        "\n",
        "  > Forneça orientações sobre a obtenção de chaves de API ou tokens.\n",
        "\n",
        "* **Passo 04: Utilização Básica da API**\n",
        "\n",
        "  > Demonstre como fazer uma solicitação simples à API.\n",
        "\n",
        "  > Mostre como processar a resposta da API.\n",
        "\n",
        "* **Passo 05: Exemplos Práticos**\n",
        "\n",
        "  > Forneça exemplos práticos e úteis que os leitores podem seguir.\n",
        "\n",
        "  > Mostre como aplicar a API em cenários do mundo real.\n",
        "\n",
        "\n",
        "* **Passo 06: Considerações**\n",
        "\n",
        "  > Recapitule os principais pontos do tutorial.\n",
        "\n",
        "  > Incentive os leitores a explorar mais a API e experimentar por conta própria.\n",
        "\n",
        "* **Passo 07: Publicação**\n",
        "\n",
        "   > Considere compartilhar seu tutorial em plataformas como Medium, GitHub (obrigatório) ou seu blog pessoal.\n",
        "\n",
        "* **Passo 08: Promoção**\n",
        "\n",
        "  > Compartilhe seu tutorial nas redes sociais, grupos de desenvolvedores e fóruns relevantes.\n",
        "\n",
        "**IMPORTANTE**: Lembre-se de manter o tutorial curto e direto ao ponto. Use exemplos de código eficazes e forneça informações práticas que os leitores possam seguir facilmente. O Google Colab é uma ótima plataforma para compartilhar tutoriais, pois permite que os leitores executem o código diretamente no navegador.\n"
      ],
      "metadata": {
        "id": "wbICIIGcYPNf"
      }
    },
    {
      "cell_type": "markdown",
      "source": [
        "### **CRITÉRIOS DE AVALIAÇÃO**\n",
        "---\n"
      ],
      "metadata": {
        "id": "gWsBYQNtxmum"
      }
    },
    {
      "cell_type": "markdown",
      "source": [
        "As 3 equipes que **criarem os melhores tutoriais**  terão o peso diminuido na AVALIAÇÃO (Prova Escrita) em **25%** (caindo de 40 para 30).\n",
        "\n",
        "**IMPORTANTE**: a diminuição no peso da AVALIAÇÃO será aplicado para todos os membros da equipe.\n",
        "\n",
        "\n",
        "\n"
      ],
      "metadata": {
        "id": "5iHdx4BXYruQ"
      }
    },
    {
      "cell_type": "markdown",
      "source": [
        "### **TUTORIAL**\n",
        "---"
      ],
      "metadata": {
        "id": "nw09lujGvfjc"
      }
    },
    {
      "cell_type": "markdown",
      "source": [
        "**Twitter (X) API**"
      ],
      "metadata": {
        "id": "5q9zcrJj0n4H"
      }
    },
    {
      "cell_type": "markdown",
      "source": [
        "#### **INTRODUÇÃO**"
      ],
      "metadata": {
        "id": "ZM2EJhRIaaa2"
      }
    },
    {
      "cell_type": "markdown",
      "source": [
        "**Descrição da API**"
      ],
      "metadata": {
        "id": "FjG5RIW5bMfd"
      }
    },
    {
      "cell_type": "markdown",
      "source": [
        "A API do Twitter (X) é uma interface que permite que desenvolvedores acessem e interajam com os dados e recursos do Twitter (X). Ela oferece um conjunto de endpoints e funcionalidades que permitem aos desenvolvedores criar aplicativos e serviços que se integram ao Twitter (X), realizando operações como postar tweets, buscar tweets, seguir usuários, acessar perfis de usuário e muito mais.\n",
        "\n",
        "\n",
        "\n",
        "\n"
      ],
      "metadata": {
        "id": "7kndSzDVbQkd"
      }
    },
    {
      "cell_type": "markdown",
      "source": [
        "#### **CONFIGURAÇÃO**\n",
        "\n",
        "**Como acessar a API do Twitter**\n",
        "\n",
        "**Crie uma Conta de Desenvolvedor no Twitter:**\n",
        "Acesse https://developer.twitter.com e crie uma conta de desenvolvedor.\n",
        "Siga o processo de registro e verificação de sua conta de desenvolvedor.\n",
        "\n",
        "**Crie um Aplicativo de Desenvolvedor:**\n",
        "Após a aprovação da sua conta de desenvolvedor, acesse o Twitter Developer Dashboard.\n",
        "Crie um novo projeto ou aplicativo no painel do desenvolvedor. Isso lhe dará as credenciais necessárias para acessar a API.\n",
        "\n",
        "**Obtenha as Credenciais da API:**\n",
        "Após criar o aplicativo, vá para a seção de \"Keys and tokens\" (Chaves e tokens) no painel do aplicativo.\n",
        "\n",
        "**Anote as seguintes credenciais:**\n",
        "API Key, API Secret Key, Access Token e Access Token Secret\n"
      ],
      "metadata": {
        "id": "5DIH_lmdaqrh"
      }
    },
    {
      "cell_type": "markdown",
      "source": [
        "**Google Colab**\n",
        "\n",
        "  O google colab é uma ferramenta para utilização de notebooks no \"estilo\" jupyter, para desenvolvimento de scripts python.\n",
        "\n",
        "Para abrir um novo notebook no Google Colab:\n",
        "\n",
        "\n",
        "1. Acesse https://colab.research.google.com.\n",
        "\n",
        "2. Clique em \"Arquivo\" no menu superior.\n",
        "\n",
        "3. Selecione \"Novo notebook\".\n",
        "\n",
        "Assim como outros compiladores de python, há a necessidade da instalação de algumas bibliotecas para posteriormente serem importadas para utilização no código. O exemplo a seguir utiliza o comando `pip install` para a instalação da biblioteca *requests* para chamada de APIs."
      ],
      "metadata": {
        "id": "HaRnv5-9OcVI"
      }
    },
    {
      "cell_type": "markdown",
      "source": [
        "**Instale as Bibliotecas Python Necessárias:**\n",
        "Você precisará de uma biblioteca Python para interagir com a API do Twitter. Uma das bibliotecas mais populares é o Tweepy. Você pode instalá-lo usando o comando pip:\n",
        "\n",
        "`pip install tweepy`\n",
        "\n",
        "A biblioteca requests é amplamente utilizada para fazer solicitações HTTP em Python, tornando mais fácil realizar comunicações com servidores da web, acessar recursos de APIs e realizar várias operações relacionadas à internet.\n",
        "\n",
        "`pip install requests`"
      ],
      "metadata": {
        "id": "dS0fYr5_ceRC"
      }
    },
    {
      "cell_type": "markdown",
      "source": [
        "**IMPORTANDO AS BIBLIOTECAS**"
      ],
      "metadata": {
        "id": "VT7kQsPEdcoJ"
      }
    },
    {
      "cell_type": "markdown",
      "source": [
        "Para importar a biblioteca para dentro do seu ambiente, basta a utilização da \"função\" nativa ```import ```. Há algumas bibliotecas que costumamos renomear o objeto como no exemplo a seguir.\n",
        "\n",
        "Vale lembrar que algumas bibliotecas são muito extensas, com muitas funções, e que podemos importar funções específicas utilizando ```from LIB import FUNCTION```. O exemplo a seguir mostra as duas situações:"
      ],
      "metadata": {
        "id": "6W_ohWeRQb2H"
      }
    },
    {
      "cell_type": "code",
      "source": [
        "import requests as re\n",
        "from requests_oauthlib import OAuth1Session\n",
        "import json\n",
        "import tweepy"
      ],
      "metadata": {
        "id": "jVhpZc6PdO9I"
      },
      "execution_count": 60,
      "outputs": []
    },
    {
      "cell_type": "markdown",
      "source": [
        "#### **AUTENTICAÇÃO (SE APLICÁVEL)**"
      ],
      "metadata": {
        "id": "SwZgsj4narLo"
      }
    },
    {
      "cell_type": "code",
      "source": [
        "# define variáveis com as suas credenciais da API do Twitter\n",
        "consumer_key = '3ZmjgNgNz93ISc5rABLvMOxq6'\n",
        "consumer_secret = 'BWElQ3BHqSIrKLY3uuHgVSas2aEZDpgo1sQwR0gLRKZVefnjnm'\n",
        "access_token = '1719098929025814528-XUyUeD3ujW2yxEFzQN317Z3knuKzKS'\n",
        "access_token_secret = 'MXQnuXkFvQlCEDXMJfhaj5yWx1Xk4eSAy7DiHQfxT5jOQ'\n",
        "bearer_token = 'AAAAAAAAAAAAAAAAAAAAAMAdqwEAAAAAe9wynkauAPHmcfWMFAokSM0fEEA%3DqefSfWxNVgQ06GYBYVE3AJlsCKOG1N1RflyICJsryRPdHf628s'"
      ],
      "metadata": {
        "id": "UKedPQHadkcM"
      },
      "execution_count": 61,
      "outputs": []
    },
    {
      "cell_type": "markdown",
      "source": [
        "#### **UTILIZAÇÃO BÁSICA**\n",
        "\n",
        "Após criar uma conta de desenvolvedor e obter as credenciais assim como a autenticação e autorização do usuário descritos nos passos acima, é possível implementar chamadas para a API para consultar usuário (e também o número de seguidores do mesmo), postar e deletar tweets."
      ],
      "metadata": {
        "id": "ZjXBfNHwarfV"
      }
    },
    {
      "cell_type": "markdown",
      "source": [
        "#### **EXEMPLOS PRÁTICOS**\n",
        "\n",
        "Abaixo temos alguns exemplos práticos das funcionalidades que a API do Twitter (X) permite o usuário a fazer gratuitamente:"
      ],
      "metadata": {
        "id": "marqph_raryN"
      }
    },
    {
      "cell_type": "markdown",
      "source": [
        "1) CRIAR UM TWEET"
      ],
      "metadata": {
        "id": "LUqsaWwiv6ZP"
      }
    },
    {
      "cell_type": "code",
      "source": [
        "#Define o texto que será tweetado\n",
        "payload = {\"text\": \"Teste PLN\"}"
      ],
      "metadata": {
        "id": "kL2QwVp155YM"
      },
      "execution_count": 62,
      "outputs": []
    },
    {
      "cell_type": "markdown",
      "source": [
        "O código abaixo é responsável por obter um \"token de requisição\" (request token), que é uma etapa importante no processo de autenticação OAuth 1.0a. Essa etapa é necessária para autorizar o aplicativo a acessar a conta do usuário no Twitter em nome do usuário no qual as credenciais se referem."
      ],
      "metadata": {
        "id": "u7ISOW33rem9"
      }
    },
    {
      "cell_type": "code",
      "source": [
        "#Obtem o token de requisição com permissão de escrita\n",
        "request_token_url = \"https://api.twitter.com/oauth/request_token?oauth_callback=oob&x_auth_access_type=write\"\n",
        "oauth = OAuth1Session(consumer_key, client_secret=consumer_secret)\n",
        "\n",
        "#validação se o token foi obtido\n",
        "try:\n",
        "  fetch_response = oauth.fetch_request_token(request_token_url)\n",
        "except ValueError:\n",
        "  print(\"There may have been an issue with the consumer_key or consumer_secret you entered.\")\n",
        "\n",
        "resource_owner_key = fetch_response.get(\"oauth_token\")\n",
        "resource_owner_secret = fetch_response.get(\"oauth_token_secret\")\n",
        "print(\"Got OAuth token: %s\" % resource_owner_key)"
      ],
      "metadata": {
        "id": "QDla-WTxrE-0"
      },
      "execution_count": null,
      "outputs": []
    },
    {
      "cell_type": "markdown",
      "source": [
        "Em seguida, o código abaixo irá obter, após a autorização do usuário, o \"token de acesso\" (access token) para que o aplicativo a acessar sua conta do Twitter (X) e aplicar as chamadas da API necessárias.\n",
        "\n",
        "No prompt, um link será fornecido para que o usuário o acesse. No link acessado, será disponibilizado um PIN de 7 dígitos.\n",
        "\n",
        "O usuário deve então fornecer esse PIN, autorizando o acesso em sua conta."
      ],
      "metadata": {
        "id": "pNqUuruItBfs"
      }
    },
    {
      "cell_type": "code",
      "source": [
        "# Obtem a autorização do usuário\n",
        "base_authorization_url = \"https://api.twitter.com/oauth/authorize\"\n",
        "authorization_url = oauth.authorization_url(base_authorization_url)\n",
        "print(\"Please go here and authorize: %s\" % authorization_url)\n",
        "verifier = input(\"Paste the PIN here: \")\n",
        "\n",
        "# Obtem o token de acesso\n",
        "access_token_url = \"https://api.twitter.com/oauth/access_token\"\n",
        "oauth = OAuth1Session(\n",
        "    consumer_key,\n",
        "    client_secret=consumer_secret,\n",
        "    resource_owner_key=resource_owner_key,\n",
        "    resource_owner_secret=resource_owner_secret,\n",
        "    verifier=verifier,\n",
        ")\n",
        "oauth_tokens = oauth.fetch_access_token(access_token_url)\n",
        "\n",
        "access_token = oauth_tokens[\"oauth_token\"]\n",
        "access_token_secret = oauth_tokens[\"oauth_token_secret\"]"
      ],
      "metadata": {
        "id": "61FJegUotEtk"
      },
      "execution_count": null,
      "outputs": []
    },
    {
      "cell_type": "markdown",
      "source": [
        "O trecho de código abaixo tem a função de fazer uma solicitação POST à API do Twitter para postar um tweet (um novo tweet) na conta definida e aprovada pelo usuário:"
      ],
      "metadata": {
        "id": "fUq5gY-xwkbb"
      }
    },
    {
      "cell_type": "code",
      "source": [
        "#Configura a sessão OAuth1 que será usada para a chamada da API\n",
        "oauth = OAuth1Session(\n",
        "    consumer_key,\n",
        "    client_secret=consumer_secret,\n",
        "    resource_owner_key=access_token,\n",
        "    resource_owner_secret=access_token_secret,\n",
        ")\n",
        "\n",
        "#usa a sessão criada acima e faz a solicitação POST à API\n",
        "response = oauth.post(\n",
        "    \"https://api.twitter.com/2/tweets\",\n",
        "    json=payload,\n",
        ")\n",
        "\n",
        "#verifica a resposta obtida pela solicitação\n",
        "if response.status_code != 201:\n",
        "    raise Exception(\n",
        "        \"Request returned an error: {} {}\".format(response.status_code, response.text)\n",
        "    )\n",
        "\n",
        "#imprime o código de resposta\n",
        "print(\"Response code: {}\".format(response.status_code))\n",
        "\n",
        "#salva a resposta obtida em formato JSON para visualização\n",
        "json_response = response.json()\n",
        "print(json.dumps(json_response, indent=4, sort_keys=True))"
      ],
      "metadata": {
        "id": "nTTcI88Xi0Zb"
      },
      "execution_count": null,
      "outputs": []
    },
    {
      "cell_type": "markdown",
      "source": [
        "2) DELETA O TWEET"
      ],
      "metadata": {
        "id": "laOELmQMxw-d"
      }
    },
    {
      "cell_type": "markdown",
      "source": [
        "Para deletar, primeiro devemos definir qual id da requisição post é desejado deletar"
      ],
      "metadata": {
        "id": "me9TK4Co4qdZ"
      }
    },
    {
      "cell_type": "code",
      "source": [
        "#define em uma variavel o id obtido na requisição post\n",
        "id = \"1720189839432090078\""
      ],
      "metadata": {
        "id": "kPCJkOoC4oVN"
      },
      "execution_count": 66,
      "outputs": []
    },
    {
      "cell_type": "markdown",
      "source": [
        "O código abaixo é responsável por obter um \"token de requisição\" (request token), que é uma etapa importante no processo de autenticação OAuth 1.0a. Essa etapa é necessária para autorizar o aplicativo a acessar a conta do usuário no Twitter em nome do usuário no qual as credenciais se referem."
      ],
      "metadata": {
        "id": "v-HodTGh4Vzi"
      }
    },
    {
      "cell_type": "code",
      "source": [
        "#Obtem o token de requisição com permissão para delete\n",
        "request_token_url = \"https://api.twitter.com/oauth/request_token\"\n",
        "oauth = OAuth1Session(consumer_key, client_secret=consumer_secret)\n",
        "\n",
        "#validação se o token foi obtido\n",
        "try:\n",
        "    fetch_response = oauth.fetch_request_token(request_token_url)\n",
        "except ValueError:\n",
        "    print(\n",
        "        \"There may have been an issue with the consumer_key or consumer_secret you entered.\"\n",
        "    )\n",
        "\n",
        "resource_owner_key = fetch_response.get(\"oauth_token\")\n",
        "resource_owner_secret = fetch_response.get(\"oauth_token_secret\")\n",
        "print(\"Got OAuth token: %s\" % resource_owner_key)"
      ],
      "metadata": {
        "id": "4j6IJUGR4k6J"
      },
      "execution_count": null,
      "outputs": []
    },
    {
      "cell_type": "markdown",
      "source": [
        "Em seguida, o código abaixo irá obter, após a autorização do usuário, o \"token de acesso\" (access token) para que o aplicativo a acessar sua conta do Twitter (X) e aplicar as chamadas da API necessárias.\n",
        "\n",
        "No prompt, um link será fornecido para que o usuário o acesse. No link acessado, será disponibilizado um PIN de 7 dígitos.\n",
        "\n",
        "O usuário deve então fornecer esse PIN, autorizando o acesso em sua conta."
      ],
      "metadata": {
        "id": "MRmdeAC45H5Q"
      }
    },
    {
      "cell_type": "code",
      "source": [
        "# Obtem a autorização do usuário\n",
        "base_authorization_url = \"https://api.twitter.com/oauth/authorize\"\n",
        "authorization_url = oauth.authorization_url(base_authorization_url)\n",
        "print(\"Please go here and authorize: %s\" % authorization_url)\n",
        "verifier = input(\"Paste the PIN here: \")\n",
        "\n",
        "# Obtem o token de acesso\n",
        "access_token_url = \"https://api.twitter.com/oauth/access_token\"\n",
        "oauth = OAuth1Session(\n",
        "    consumer_key,\n",
        "    client_secret=consumer_secret,\n",
        "    resource_owner_key=resource_owner_key,\n",
        "    resource_owner_secret=resource_owner_secret,\n",
        "    verifier=verifier,\n",
        ")\n",
        "oauth_tokens = oauth.fetch_access_token(access_token_url)\n",
        "\n",
        "access_token = oauth_tokens[\"oauth_token\"]\n",
        "access_token_secret = oauth_tokens[\"oauth_token_secret\"]"
      ],
      "metadata": {
        "id": "5IUGE5ZvlL3e"
      },
      "execution_count": null,
      "outputs": []
    },
    {
      "cell_type": "markdown",
      "source": [
        "O trecho de código abaixo tem a função de fazer uma solicitação DELETE à API do Twitter para deletar um tweet (com o id da requisição fornecido) na conta definida e aprovada pelo usuário:"
      ],
      "metadata": {
        "id": "ZqneYnuI5WLM"
      }
    },
    {
      "cell_type": "code",
      "source": [
        "#Configura a sessão OAuth1 que será usada para a chamada da API\n",
        "oauth = OAuth1Session(\n",
        "    consumer_key,\n",
        "    client_secret=consumer_secret,\n",
        "    resource_owner_key=access_token,\n",
        "    resource_owner_secret=access_token_secret,\n",
        ")\n",
        "\n",
        "#usa a sessão criada acima e faz a solicitação DELETE à API\n",
        "response = oauth.delete(\"https://api.twitter.com/2/tweets/{}\".format(id))\n",
        "\n",
        "#verifica a resposta obtida pela solicitação\n",
        "if response.status_code != 200:\n",
        "    raise Exception(\n",
        "        \"Request returned an error: {} {}\".format(response.status_code, response.text)\n",
        "    )\n",
        "#imprime o código de resposta\n",
        "print(\"Response code: {}\".format(response.status_code))\n",
        "\n",
        "#salva a resposta obtida em formato JSON para visualização\n",
        "json_response = response.json()\n",
        "print(json_response)"
      ],
      "metadata": {
        "id": "t0Jwvea45QRF"
      },
      "execution_count": null,
      "outputs": []
    },
    {
      "cell_type": "markdown",
      "source": [
        "3) CONSULTA DE USUÁRIOS"
      ],
      "metadata": {
        "id": "rml1Ziw97r60"
      }
    },
    {
      "cell_type": "markdown",
      "source": [
        "Uma alternativa seria a utilização da biblioteca Tweepy para fazer uma consulta de usuário.\n",
        "\n",
        "O código abaixo configura a autenticação OAuth com as credenciais do seu aplicativo e os tokens de acesso do usuário autorizado e, em seguida, cria uma instância da API do Twitter que pode ser usada para fazer solicitações à API, como consulta dos dados de um usuário."
      ],
      "metadata": {
        "id": "t-zzpX7O7xNv"
      }
    },
    {
      "cell_type": "code",
      "source": [
        "# Configurando a autenticação\n",
        "auth = tweepy.OAuthHandler(consumer_key, consumer_secret)\n",
        "auth.set_access_token(access_token, access_token_secret)\n",
        "\n",
        "# Criando uma instância da API\n",
        "api = tweepy.API(auth)"
      ],
      "metadata": {
        "id": "uzdu2MfwbA1R"
      },
      "execution_count": 71,
      "outputs": []
    },
    {
      "cell_type": "code",
      "source": [
        "# Buscar o nome de um usuário e o seu número de seguidores pelo user_name\n",
        "user = api.get_user(screen_name='@KingJames')\n",
        "print(f\"Nome: {user.name}, Seguidores: {user.followers_count}\")"
      ],
      "metadata": {
        "id": "bNqB40PlbAWx"
      },
      "execution_count": null,
      "outputs": []
    },
    {
      "cell_type": "markdown",
      "source": [
        "#### **CONSIDERAÇÕES**"
      ],
      "metadata": {
        "id": "xIP2DoACa7of"
      }
    },
    {
      "cell_type": "markdown",
      "source": [
        "A conta gratuita de desenvolvedor do Twitter (X) está limitada a apenas duas funcionalidades principais: *Manage Tweets (endpoints POST e DELETE)* e *User Look up (endpoint GET)*"
      ],
      "metadata": {
        "id": "dCRN197XbcQH"
      }
    },
    {
      "cell_type": "markdown",
      "source": [
        "**REFERÊNCIAS**\n",
        "\n",
        "---\n",
        "\n"
      ],
      "metadata": {
        "id": "DJa20CJRpQ7t"
      }
    },
    {
      "cell_type": "markdown",
      "source": [
        "https://github.com/twitterdev/Twitter-API-v2-sample-code/tree/main\n",
        "\n",
        "https://developer.twitter.com/en/docs/tutorials/step-by-step-guide-to-making-your-first-request-to-the-twitter-api-v2\n",
        "\n"
      ],
      "metadata": {
        "id": "GxpuIOR3pUWr"
      }
    }
  ]
}